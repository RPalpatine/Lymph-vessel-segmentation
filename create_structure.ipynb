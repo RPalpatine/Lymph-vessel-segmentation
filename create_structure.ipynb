{
 "cells": [
  {
   "cell_type": "code",
   "execution_count": 1,
   "metadata": {},
   "outputs": [],
   "source": [
    "import os\n",
    "import shutil\n",
    "import cv2\n",
    "from tqdm import tqdm\n"
   ]
  },
  {
   "cell_type": "code",
   "execution_count": 18,
   "metadata": {},
   "outputs": [],
   "source": [
    "PATH = \"E:/Niklas_projekt/LVSegmentationCode/\"\n",
    "\n",
    "train = \"/train/\"\n",
    "valid = \"/valid/\"\n",
    "test = \"/test/\"\n",
    "images = \"/images/\"\n",
    "masks = \"/masks/\"\n",
    "\n",
    "mask_paths = [file for file in os.listdir(PATH + \"/tiles/\") if file.endswith(\".png\")]\n",
    "image_paths = [file for file in os.listdir(PATH + \"/tiles/\") if file.endswith(\".jpg\")]"
   ]
  },
  {
   "cell_type": "code",
   "execution_count": 19,
   "metadata": {},
   "outputs": [
    {
     "name": "stderr",
     "output_type": "stream",
     "text": [
      "100%|██████████| 900/900 [00:01<00:00, 494.53it/s]\n",
      "100%|██████████| 900/900 [00:01<00:00, 497.89it/s]\n",
      "100%|██████████| 100/100 [00:00<00:00, 275.44it/s]\n",
      "100%|██████████| 100/100 [00:00<00:00, 520.57it/s]\n",
      "100%|██████████| 362/362 [00:00<00:00, 502.59it/s]\n",
      "100%|██████████| 362/362 [00:00<00:00, 505.15it/s]\n"
     ]
    }
   ],
   "source": [
    "if os.path.exists(PATH + train) is False:\n",
    "    os.makedirs(PATH + train)\n",
    "if os.path.exists(PATH + train + masks) is False:\n",
    "    os.makedirs(PATH + train + masks)\n",
    "if os.path.exists(PATH + train + images) is False:\n",
    "    os.makedirs(PATH + train + images)\n",
    "    \n",
    "if os.path.exists(PATH + valid) is False:\n",
    "    os.makedirs(PATH + valid)\n",
    "if os.path.exists(PATH + valid + masks) is False:\n",
    "    os.makedirs(PATH + valid + masks)\n",
    "if os.path.exists(PATH + valid + images) is False:\n",
    "    os.makedirs(PATH + valid + images)\n",
    "    \n",
    "if os.path.exists(PATH + test) is False:\n",
    "    os.makedirs(PATH + test)\n",
    "if os.path.exists(PATH + test + masks) is False:\n",
    "    os.makedirs(PATH + test + masks)\n",
    "if os.path.exists(PATH + test + images) is False:\n",
    "    os.makedirs(PATH + test + images)\n",
    "    \n",
    "for file in tqdm(image_paths[:900]):\n",
    "    src = PATH + \"/tiles/\" + file\n",
    "    dst = PATH + train + images + file\n",
    "    shutil.copy2(src=src, dst=dst)\n",
    "    \n",
    "for file in tqdm(mask_paths[:900]):\n",
    "    src = PATH + \"/tiles/\" + file\n",
    "    dst = PATH + train + masks + file[:-13] + \".png\"\n",
    "    shutil.copy2(src=src, dst=dst)\n",
    "    \n",
    "for file in tqdm(image_paths[900:1000]):\n",
    "    src = PATH + \"/tiles/\" + file\n",
    "    dst = PATH + valid + images + file\n",
    "    shutil.copy2(src=src, dst=dst)\n",
    "    \n",
    "for file in tqdm(mask_paths[900:1000]):\n",
    "    src = PATH + \"/tiles/\" + file\n",
    "    dst = PATH + valid + masks + file[:-13] + \".png\"\n",
    "    shutil.copy2(src=src, dst=dst)\n",
    "\n",
    "for file in tqdm(image_paths[1000:]):\n",
    "    src = PATH + \"/tiles/\" + file\n",
    "    dst = PATH + test + images + file\n",
    "    shutil.copy2(src=src, dst=dst)\n",
    "    \n",
    "for file in tqdm(mask_paths[1000:]):\n",
    "    src = PATH + \"/tiles/\" + file\n",
    "    dst = PATH + test + masks + file[:-13] + \".png\"\n",
    "    shutil.copy2(src=src, dst=dst)\n",
    "    "
   ]
  },
  {
   "cell_type": "code",
   "execution_count": null,
   "metadata": {},
   "outputs": [],
   "source": []
  }
 ],
 "metadata": {
  "kernelspec": {
   "display_name": "opencv-course",
   "language": "python",
   "name": "python3"
  },
  "language_info": {
   "codemirror_mode": {
    "name": "ipython",
    "version": 3
   },
   "file_extension": ".py",
   "mimetype": "text/x-python",
   "name": "python",
   "nbconvert_exporter": "python",
   "pygments_lexer": "ipython3",
   "version": "3.10.8"
  },
  "orig_nbformat": 4
 },
 "nbformat": 4,
 "nbformat_minor": 2
}
